{
  "nbformat": 4,
  "nbformat_minor": 0,
  "metadata": {
    "colab": {
      "provenance": [],
      "authorship_tag": "ABX9TyOQephfDlduKm+pDszEQWS0",
      "include_colab_link": true
    },
    "kernelspec": {
      "name": "python3",
      "display_name": "Python 3"
    },
    "language_info": {
      "name": "python"
    }
  },
  "cells": [
    {
      "cell_type": "markdown",
      "metadata": {
        "id": "view-in-github",
        "colab_type": "text"
      },
      "source": [
        "<a href=\"https://colab.research.google.com/github/justin900302/AI/blob/main/3_Keras_tutorial2.ipynb\" target=\"_parent\"><img src=\"https://colab.research.google.com/assets/colab-badge.svg\" alt=\"Open In Colab\"/></a>"
      ]
    },
    {
      "cell_type": "code",
      "execution_count": 1,
      "metadata": {
        "colab": {
          "base_uri": "https://localhost:8080/"
        },
        "id": "mX4It7alnpSY",
        "outputId": "1307646a-9b49-4ffe-84ff-bdc29ebbf6cd"
      },
      "outputs": [
        {
          "output_type": "stream",
          "name": "stdout",
          "text": [
            "Epoch 1/10\n",
            "32/32 [==============================] - 4s 37ms/step - loss: 436.3617 - accuracy: 0.0680\n",
            "Epoch 2/10\n",
            "32/32 [==============================] - 1s 45ms/step - loss: 1394.1396 - accuracy: 0.0710\n",
            "Epoch 3/10\n",
            "32/32 [==============================] - 1s 29ms/step - loss: 2651.7556 - accuracy: 0.0680\n",
            "Epoch 4/10\n",
            "32/32 [==============================] - 1s 25ms/step - loss: 3687.7024 - accuracy: 0.0660\n",
            "Epoch 5/10\n",
            "32/32 [==============================] - 1s 29ms/step - loss: 5180.5229 - accuracy: 0.0590\n",
            "Epoch 6/10\n",
            "32/32 [==============================] - 1s 26ms/step - loss: 6718.8364 - accuracy: 0.0700\n",
            "Epoch 7/10\n",
            "32/32 [==============================] - 1s 24ms/step - loss: 7347.2861 - accuracy: 0.0790\n",
            "Epoch 8/10\n",
            "32/32 [==============================] - 1s 26ms/step - loss: 8660.9688 - accuracy: 0.0710\n",
            "Epoch 9/10\n",
            "32/32 [==============================] - 1s 30ms/step - loss: 9511.0430 - accuracy: 0.0710\n",
            "Epoch 10/10\n",
            "32/32 [==============================] - 1s 37ms/step - loss: 11255.4785 - accuracy: 0.0800\n",
            "32/32 [==============================] - 1s 5ms/step - loss: 10660.4707 - accuracy: 0.0660\n"
          ]
        }
      ],
      "source": [
        "from tensorflow import keras\n",
        "from keras.models import Sequential\n",
        "from keras.layers import Dense, Dropout\n",
        " \n",
        "model = Sequential()\n",
        "model.add(Dense(512, activation='relu', input_dim=784))\n",
        "model.add(Dropout(0.2))\n",
        "model.add(Dense(10, activation='softmax'))\n",
        "model.compile(optimizer='adam', loss='categorical_crossentropy', metrics=['accuracy'])\n",
        " \n",
        "import numpy as np\n",
        "data = np.random.random((1000, 784)) \n",
        "labels = np.random.randint(10, size=(1000, 10))\n",
        " \n",
        "model.fit(data, labels, epochs=10, batch_size=32)\n",
        "\n",
        "score=model.evaluate(data, labels)"
      ]
    }
  ]
}