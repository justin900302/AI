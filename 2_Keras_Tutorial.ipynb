{
  "nbformat": 4,
  "nbformat_minor": 0,
  "metadata": {
    "colab": {
      "provenance": [],
      "authorship_tag": "ABX9TyP5lKJtJkODWw8hnWosHwRu",
      "include_colab_link": true
    },
    "kernelspec": {
      "name": "python3",
      "display_name": "Python 3"
    },
    "language_info": {
      "name": "python"
    }
  },
  "cells": [
    {
      "cell_type": "markdown",
      "metadata": {
        "id": "view-in-github",
        "colab_type": "text"
      },
      "source": [
        "<a href=\"https://colab.research.google.com/github/justin900302/AI/blob/main/2_Keras_Tutorial.ipynb\" target=\"_parent\"><img src=\"https://colab.research.google.com/assets/colab-badge.svg\" alt=\"Open In Colab\"/></a>"
      ]
    },
    {
      "cell_type": "markdown",
      "source": [
        "#Keras深度學習初體驗1\n",
        "利用keras套件，產生一個32個神經元的深度學習模型進行訓練"
      ],
      "metadata": {
        "id": "Vs2zMGz6nQZZ"
      }
    },
    {
      "cell_type": "code",
      "source": [
        "from tensorflow import keras\n",
        "from keras.models import Sequential\n",
        "from keras.layers import Dense\n",
        "\n",
        "import numpy as np\n",
        "data = np.random.random((1000, 10)) #隨機產生1000筆資料，每筆資料包含十個float數字\n",
        "labels = np.random.randint(2, size=(1000, 1)) #隨機產生1000筆資料，每筆資料上限為2(意思就是0 或 1)\n",
        "print(np.shape(data))\n",
        "print(data[0])\n",
        "print(np.shape(labels))\n",
        "print(labels[0])\n",
        "\n",
        "model = Sequential()\n",
        "model.add(Dense(32, activation='relu', input_dim=10))\n",
        "model.add(Dense(1, activation='sigmoid'))\n",
        "model.compile(optimizer='rmsprop', loss='binary_crossentropy', metrics=['accuracy'])\n",
        "\n",
        "model.fit(data, labels, epochs=10, batch_size=32)\n",
        "\n",
        "score=model.evaluate(data, labels)\n",
        "print(score[1])\n",
        "     "
      ],
      "metadata": {
        "colab": {
          "base_uri": "https://localhost:8080/"
        },
        "id": "wUvErSWYnXZe",
        "outputId": "2308ebf9-27d6-4b63-8ef5-d7152124baa4"
      },
      "execution_count": 1,
      "outputs": [
        {
          "output_type": "stream",
          "name": "stdout",
          "text": [
            "(1000, 10)\n",
            "[0.02365277 0.78170756 0.83053055 0.45391738 0.97555384 0.84542189\n",
            " 0.68902849 0.02376209 0.69356454 0.61560262]\n",
            "(1000, 1)\n",
            "[0]\n",
            "Epoch 1/10\n",
            "32/32 [==============================] - 2s 10ms/step - loss: 0.7068 - accuracy: 0.4990\n",
            "Epoch 2/10\n",
            "32/32 [==============================] - 0s 15ms/step - loss: 0.6970 - accuracy: 0.4980\n",
            "Epoch 3/10\n",
            "32/32 [==============================] - 0s 8ms/step - loss: 0.6948 - accuracy: 0.5080\n",
            "Epoch 4/10\n",
            "32/32 [==============================] - 1s 19ms/step - loss: 0.6933 - accuracy: 0.5300\n",
            "Epoch 5/10\n",
            "32/32 [==============================] - 0s 4ms/step - loss: 0.6922 - accuracy: 0.5110\n",
            "Epoch 6/10\n",
            "32/32 [==============================] - 0s 7ms/step - loss: 0.6915 - accuracy: 0.5150\n",
            "Epoch 7/10\n",
            "32/32 [==============================] - 0s 6ms/step - loss: 0.6908 - accuracy: 0.5250\n",
            "Epoch 8/10\n",
            "32/32 [==============================] - 1s 16ms/step - loss: 0.6899 - accuracy: 0.5330\n",
            "Epoch 9/10\n",
            "32/32 [==============================] - 0s 11ms/step - loss: 0.6892 - accuracy: 0.5420\n",
            "Epoch 10/10\n",
            "32/32 [==============================] - 0s 7ms/step - loss: 0.6890 - accuracy: 0.5280\n",
            "32/32 [==============================] - 1s 21ms/step - loss: 0.6873 - accuracy: 0.5420\n",
            "0.5419999957084656\n"
          ]
        }
      ]
    }
  ]
}