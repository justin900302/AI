{
  "nbformat": 4,
  "nbformat_minor": 0,
  "metadata": {
    "colab": {
      "provenance": [],
      "authorship_tag": "ABX9TyPAUvrFBX9WBduSD6A43Ug7",
      "include_colab_link": true
    },
    "kernelspec": {
      "name": "python3",
      "display_name": "Python 3"
    },
    "language_info": {
      "name": "python"
    }
  },
  "cells": [
    {
      "cell_type": "markdown",
      "metadata": {
        "id": "view-in-github",
        "colab_type": "text"
      },
      "source": [
        "<a href=\"https://colab.research.google.com/github/justin900302/AI/blob/main/7_RNN.ipynb\" target=\"_parent\"><img src=\"https://colab.research.google.com/assets/colab-badge.svg\" alt=\"Open In Colab\"/></a>"
      ]
    },
    {
      "cell_type": "code",
      "execution_count": null,
      "metadata": {
        "colab": {
          "base_uri": "https://localhost:8080/"
        },
        "id": "gTTZ3PyrcxOy",
        "outputId": "55406cb3-21ee-4746-dd78-45fd65356b1b"
      },
      "outputs": [
        {
          "output_type": "stream",
          "name": "stdout",
          "text": [
            "--2023-05-25 15:07:44--  https://github.com/shhuangmust/AI/raw/111-2/Google_Stock_Price_Train.csv\n",
            "Resolving github.com (github.com)... 140.82.114.3\n",
            "Connecting to github.com (github.com)|140.82.114.3|:443... connected.\n",
            "HTTP request sent, awaiting response... 302 Found\n",
            "Location: https://raw.githubusercontent.com/shhuangmust/AI/111-2/Google_Stock_Price_Train.csv [following]\n",
            "--2023-05-25 15:07:44--  https://raw.githubusercontent.com/shhuangmust/AI/111-2/Google_Stock_Price_Train.csv\n",
            "Resolving raw.githubusercontent.com (raw.githubusercontent.com)... 185.199.111.133, 185.199.109.133, 185.199.108.133, ...\n",
            "Connecting to raw.githubusercontent.com (raw.githubusercontent.com)|185.199.111.133|:443... connected.\n",
            "HTTP request sent, awaiting response... 200 OK\n",
            "Length: 63488 (62K) [text/plain]\n",
            "Saving to: ‘Google_Stock_Price_Train.csv’\n",
            "\n",
            "Google_Stock_Price_ 100%[===================>]  62.00K  --.-KB/s    in 0.01s   \n",
            "\n",
            "2023-05-25 15:07:44 (4.99 MB/s) - ‘Google_Stock_Price_Train.csv’ saved [63488/63488]\n",
            "\n",
            "--2023-05-25 15:07:44--  https://github.com/shhuangmust/AI/raw/111-2/Google_Stock_Price_Test.csv\n",
            "Resolving github.com (github.com)... 140.82.112.3\n",
            "Connecting to github.com (github.com)|140.82.112.3|:443... connected.\n",
            "HTTP request sent, awaiting response... 302 Found\n",
            "Location: https://raw.githubusercontent.com/shhuangmust/AI/111-2/Google_Stock_Price_Test.csv [following]\n",
            "--2023-05-25 15:07:44--  https://raw.githubusercontent.com/shhuangmust/AI/111-2/Google_Stock_Price_Test.csv\n",
            "Resolving raw.githubusercontent.com (raw.githubusercontent.com)... 185.199.108.133, 185.199.109.133, 185.199.110.133, ...\n",
            "Connecting to raw.githubusercontent.com (raw.githubusercontent.com)|185.199.108.133|:443... connected.\n",
            "HTTP request sent, awaiting response... 200 OK\n",
            "Length: 1029 (1.0K) [text/plain]\n",
            "Saving to: ‘Google_Stock_Price_Test.csv’\n",
            "\n",
            "Google_Stock_Price_ 100%[===================>]   1.00K  --.-KB/s    in 0s      \n",
            "\n",
            "2023-05-25 15:07:45 (78.8 MB/s) - ‘Google_Stock_Price_Test.csv’ saved [1029/1029]\n",
            "\n"
          ]
        }
      ],
      "source": [
        "!wget https://github.com/shhuangmust/AI/raw/111-2/Google_Stock_Price_Train.csv\n",
        "!wget https://github.com/shhuangmust/AI/raw/111-2/Google_Stock_Price_Test.csv"
      ]
    },
    {
      "cell_type": "code",
      "source": [
        "# Import the libraries\n",
        "import numpy as np\n",
        "import matplotlib.pyplot as plt  # for 畫圖用\n",
        "import pandas as pd\n",
        "\n",
        "# Import the training set\n",
        "dataset_train = pd.read_csv('Google_Stock_Price_Train.csv')  # 讀取訓練集\n",
        "training_set = dataset_train.iloc[:, 1:2].values  # 取「Open」欄位值\n",
        "\n",
        "# Feature Scaling\n",
        "from sklearn.preprocessing import MinMaxScaler\n",
        "\n",
        "sc = MinMaxScaler(feature_range = (0, 1))\n",
        "training_set_scaled = sc.fit_transform(training_set)\n",
        "\n",
        "X_train = []   #預測點的前 60 天的資料\n",
        "y_train = []   #預測點\n",
        "for i in range(60, 1258):  # 1258 是訓練集總數\n",
        "    X_train.append(training_set_scaled[i-60:i, 0])\n",
        "    y_train.append(training_set_scaled[i, 0])\n",
        "X_train, y_train = np.array(X_train), np.array(y_train)  # 轉成numpy array的格式，以利輸入 RNN\n",
        "X_train = np.reshape(X_train, (X_train.shape[0], X_train.shape[1], 1))"
      ],
      "metadata": {
        "id": "64k37arBc5Gj"
      },
      "execution_count": null,
      "outputs": []
    },
    {
      "cell_type": "code",
      "source": [
        "# Import the Keras libraries and packages\n",
        "from keras.models import Sequential\n",
        "from keras.layers import Dense\n",
        "from keras.layers import LSTM\n",
        "from keras.layers import Dropout\n",
        "\n",
        "# Initialising the RNN\n",
        "regressor = Sequential()\n",
        "# Adding the first LSTM layer and some Dropout regularisation\n",
        "regressor.add(LSTM(units = 50, return_sequences = True, input_shape = (X_train.shape[1], 1)))\n",
        "regressor.add(Dropout(0.2))\n",
        "\n",
        "# Adding a second LSTM layer and some Dropout regularisation\n",
        "regressor.add(LSTM(units = 50, return_sequences = True))\n",
        "regressor.add(Dropout(0.2))\n",
        "\n",
        "# Adding a third LSTM layer and some Dropout regularisation\n",
        "regressor.add(LSTM(units = 50, return_sequences = True))\n",
        "regressor.add(Dropout(0.2))\n",
        "\n",
        "# Adding a fourth LSTM layer and some Dropout regularisation\n",
        "regressor.add(LSTM(units = 50))\n",
        "regressor.add(Dropout(0.2))\n",
        "# Adding the output layer\n",
        "regressor.add(Dense(units = 1))\n",
        "# Compiling\n",
        "regressor.compile(optimizer = 'adam', loss = 'mean_squared_error')\n",
        "\n",
        "# 進行訓練\n",
        "regressor.fit(X_train, y_train, epochs = 65, batch_size = 32)"
      ],
      "metadata": {
        "colab": {
          "base_uri": "https://localhost:8080/"
        },
        "id": "BZWFiKpWc9od",
        "outputId": "318affb2-130d-43dc-a596-3ad8013981a4"
      },
      "execution_count": null,
      "outputs": [
        {
          "output_type": "stream",
          "name": "stdout",
          "text": [
            "Epoch 1/65\n",
            "38/38 [==============================] - 10s 116ms/step - loss: 0.0425\n",
            "Epoch 2/65\n",
            "38/38 [==============================] - 4s 98ms/step - loss: 0.0064\n",
            "Epoch 3/65\n",
            "38/38 [==============================] - 4s 96ms/step - loss: 0.0060\n",
            "Epoch 4/65\n",
            "38/38 [==============================] - 3s 80ms/step - loss: 0.0054\n",
            "Epoch 5/65\n",
            "38/38 [==============================] - 3s 81ms/step - loss: 0.0048\n",
            "Epoch 6/65\n",
            "38/38 [==============================] - 3s 79ms/step - loss: 0.0059\n",
            "Epoch 7/65\n",
            "38/38 [==============================] - 4s 93ms/step - loss: 0.0049\n",
            "Epoch 8/65\n",
            "38/38 [==============================] - 3s 81ms/step - loss: 0.0043\n",
            "Epoch 9/65\n",
            "38/38 [==============================] - 3s 79ms/step - loss: 0.0046\n",
            "Epoch 10/65\n",
            "38/38 [==============================] - 4s 114ms/step - loss: 0.0047\n",
            "Epoch 11/65\n",
            "38/38 [==============================] - 3s 81ms/step - loss: 0.0044\n",
            "Epoch 12/65\n",
            "38/38 [==============================] - 3s 87ms/step - loss: 0.0040\n",
            "Epoch 13/65\n",
            "38/38 [==============================] - 3s 87ms/step - loss: 0.0042\n",
            "Epoch 14/65\n",
            "38/38 [==============================] - 4s 94ms/step - loss: 0.0041\n",
            "Epoch 15/65\n",
            "38/38 [==============================] - 3s 80ms/step - loss: 0.0036\n",
            "Epoch 16/65\n",
            "38/38 [==============================] - 3s 78ms/step - loss: 0.0041\n",
            "Epoch 17/65\n",
            "38/38 [==============================] - 3s 81ms/step - loss: 0.0042\n",
            "Epoch 18/65\n",
            "38/38 [==============================] - 3s 91ms/step - loss: 0.0037\n",
            "Epoch 19/65\n",
            "38/38 [==============================] - 3s 79ms/step - loss: 0.0032\n",
            "Epoch 20/65\n",
            "38/38 [==============================] - 3s 79ms/step - loss: 0.0037\n",
            "Epoch 21/65\n",
            "38/38 [==============================] - 3s 90ms/step - loss: 0.0033\n",
            "Epoch 22/65\n",
            "38/38 [==============================] - 3s 83ms/step - loss: 0.0033\n",
            "Epoch 23/65\n",
            "38/38 [==============================] - 3s 80ms/step - loss: 0.0033\n",
            "Epoch 24/65\n",
            "38/38 [==============================] - 3s 80ms/step - loss: 0.0031\n",
            "Epoch 25/65\n",
            "38/38 [==============================] - 4s 95ms/step - loss: 0.0031\n",
            "Epoch 26/65\n",
            "38/38 [==============================] - 3s 81ms/step - loss: 0.0028\n",
            "Epoch 27/65\n",
            "38/38 [==============================] - 3s 79ms/step - loss: 0.0032\n",
            "Epoch 28/65\n",
            "38/38 [==============================] - 3s 80ms/step - loss: 0.0028\n",
            "Epoch 29/65\n",
            "38/38 [==============================] - 4s 94ms/step - loss: 0.0028\n",
            "Epoch 30/65\n",
            "38/38 [==============================] - 4s 93ms/step - loss: 0.0027\n",
            "Epoch 31/65\n",
            "38/38 [==============================] - 3s 79ms/step - loss: 0.0027\n",
            "Epoch 32/65\n",
            "38/38 [==============================] - 3s 90ms/step - loss: 0.0030\n",
            "Epoch 33/65\n",
            "38/38 [==============================] - 3s 85ms/step - loss: 0.0028\n",
            "Epoch 34/65\n",
            "38/38 [==============================] - 3s 81ms/step - loss: 0.0027\n",
            "Epoch 35/65\n",
            "38/38 [==============================] - 3s 81ms/step - loss: 0.0027\n",
            "Epoch 36/65\n",
            "38/38 [==============================] - 4s 94ms/step - loss: 0.0029\n",
            "Epoch 37/65\n",
            "38/38 [==============================] - 3s 79ms/step - loss: 0.0028\n",
            "Epoch 38/65\n",
            "38/38 [==============================] - 3s 79ms/step - loss: 0.0027\n",
            "Epoch 39/65\n",
            "38/38 [==============================] - 3s 79ms/step - loss: 0.0028\n",
            "Epoch 40/65\n",
            "38/38 [==============================] - 4s 95ms/step - loss: 0.0027\n",
            "Epoch 41/65\n",
            "38/38 [==============================] - 3s 81ms/step - loss: 0.0024\n",
            "Epoch 42/65\n",
            "38/38 [==============================] - 3s 80ms/step - loss: 0.0025\n",
            "Epoch 43/65\n",
            "38/38 [==============================] - 3s 86ms/step - loss: 0.0028\n",
            "Epoch 44/65\n",
            "38/38 [==============================] - 3s 88ms/step - loss: 0.0027\n",
            "Epoch 45/65\n",
            "38/38 [==============================] - 3s 80ms/step - loss: 0.0028\n",
            "Epoch 46/65\n",
            "38/38 [==============================] - 3s 80ms/step - loss: 0.0026\n",
            "Epoch 47/65\n",
            "38/38 [==============================] - 4s 94ms/step - loss: 0.0026\n",
            "Epoch 48/65\n",
            "38/38 [==============================] - 3s 80ms/step - loss: 0.0024\n",
            "Epoch 49/65\n",
            "38/38 [==============================] - 3s 79ms/step - loss: 0.0025\n",
            "Epoch 50/65\n",
            "38/38 [==============================] - 3s 79ms/step - loss: 0.0026\n",
            "Epoch 51/65\n",
            "38/38 [==============================] - 4s 95ms/step - loss: 0.0024\n",
            "Epoch 52/65\n",
            "38/38 [==============================] - 3s 79ms/step - loss: 0.0024\n",
            "Epoch 53/65\n",
            "38/38 [==============================] - 3s 80ms/step - loss: 0.0023\n",
            "Epoch 54/65\n",
            "38/38 [==============================] - 3s 79ms/step - loss: 0.0021\n",
            "Epoch 55/65\n",
            "38/38 [==============================] - 4s 95ms/step - loss: 0.0022\n",
            "Epoch 56/65\n",
            "38/38 [==============================] - 3s 79ms/step - loss: 0.0022\n",
            "Epoch 57/65\n",
            "38/38 [==============================] - 3s 80ms/step - loss: 0.0023\n",
            "Epoch 58/65\n",
            "38/38 [==============================] - 3s 89ms/step - loss: 0.0021\n",
            "Epoch 59/65\n",
            "38/38 [==============================] - 3s 84ms/step - loss: 0.0021\n",
            "Epoch 60/65\n",
            "38/38 [==============================] - 3s 79ms/step - loss: 0.0020\n",
            "Epoch 61/65\n",
            "38/38 [==============================] - 3s 80ms/step - loss: 0.0022\n",
            "Epoch 62/65\n",
            "38/38 [==============================] - 4s 95ms/step - loss: 0.0021\n",
            "Epoch 63/65\n",
            "38/38 [==============================] - 3s 80ms/step - loss: 0.0019\n",
            "Epoch 64/65\n",
            "38/38 [==============================] - 3s 81ms/step - loss: 0.0021\n",
            "Epoch 65/65\n",
            "38/38 [==============================] - 3s 81ms/step - loss: 0.0018\n"
          ]
        },
        {
          "output_type": "execute_result",
          "data": {
            "text/plain": [
              "<keras.callbacks.History at 0x7f788cf36fb0>"
            ]
          },
          "metadata": {},
          "execution_count": 3
        }
      ]
    },
    {
      "cell_type": "code",
      "source": [
        "dataset_test = pd.read_csv('Google_Stock_Price_Test.csv')\n",
        "real_stock_price = dataset_test.iloc[:, 1:2].values\n",
        "dataset_total = pd.concat((dataset_train['Open'], dataset_test['Open']), axis = 0)\n",
        "inputs = dataset_total[len(dataset_total) - len(dataset_test) - 60:].values\n",
        "inputs = inputs.reshape(-1,1)\n",
        "inputs = sc.transform(inputs) # Feature Scaling\n",
        "\n",
        "X_test = []\n",
        "for i in range(60, 80):  # timesteps一樣60； 80 = 先前的60天資料+2017年的20天資料\n",
        "    X_test.append(inputs[i-60:i, 0])\n",
        "X_test = np.array(X_test)\n",
        "X_test = np.reshape(X_test, (X_test.shape[0], X_test.shape[1], 1))  # Reshape 成 3-dimension\n",
        "predicted_stock_price = regressor.predict(X_test)\n",
        "predicted_stock_price = sc.inverse_transform(predicted_stock_price)  # to get the original scale\n"
      ],
      "metadata": {
        "colab": {
          "base_uri": "https://localhost:8080/"
        },
        "id": "WG5jz1OtdDoS",
        "outputId": "a85357f1-3bac-42af-af39-b6d43722622c"
      },
      "execution_count": null,
      "outputs": [
        {
          "output_type": "stream",
          "name": "stdout",
          "text": [
            "1/1 [==============================] - 1s 1s/step\n"
          ]
        }
      ]
    },
    {
      "cell_type": "code",
      "source": [
        "# Visualising the results\n",
        "plt.plot(real_stock_price, color = 'red', label = 'Real Google Stock Price')  # 紅線表示真實股價\n",
        "plt.plot(predicted_stock_price, color = 'blue', label = 'Predicted Google Stock Price')  # 藍線表示預測股價\n",
        "plt.title('Google Stock Price Prediction')\n",
        "plt.xlabel('Time')\n",
        "plt.ylabel('Google Stock Price')\n",
        "plt.legend()\n",
        "plt.show()"
      ],
      "metadata": {
        "colab": {
          "base_uri": "https://localhost:8080/",
          "height": 54
        },
        "id": "hDsPVMYydFbe",
        "outputId": "705857bb-7f5d-47be-d540-6b16ea80a46e"
      },
      "execution_count": null,
      "outputs": [
        {
          "output_type": "display_data",
          "data": {
            "text/plain": [
              "<Figure size 640x480 with 1 Axes>"
            ],
            "image/png": "[encoded data removed]"
          },
          "metadata": {}
        }
      ]
    }
  ]
}